{
 "cells": [
  {
   "cell_type": "code",
   "execution_count": 4,
   "id": "bb3c9239",
   "metadata": {},
   "outputs": [],
   "source": [
    "import pandas as pd\n",
    "import seaborn as sns\n",
    "import streamlit as st"
   ]
  },
  {
   "cell_type": "code",
   "execution_count": 2,
   "id": "1ce2a6f5",
   "metadata": {},
   "outputs": [],
   "source": [
    "file = pd.read_csv(r'C:\\Users\\Usuário\\Documents\\GitHub\\IBGE\\data\\IBGE_Tratado.csv', sep=';')"
   ]
  },
  {
   "cell_type": "code",
   "execution_count": 3,
   "id": "9e676886",
   "metadata": {},
   "outputs": [
    {
     "data": {
      "text/html": [
       "<div>\n",
       "<style scoped>\n",
       "    .dataframe tbody tr th:only-of-type {\n",
       "        vertical-align: middle;\n",
       "    }\n",
       "\n",
       "    .dataframe tbody tr th {\n",
       "        vertical-align: top;\n",
       "    }\n",
       "\n",
       "    .dataframe thead th {\n",
       "        text-align: right;\n",
       "    }\n",
       "</style>\n",
       "<table border=\"1\" class=\"dataframe\">\n",
       "  <thead>\n",
       "    <tr style=\"text-align: right;\">\n",
       "      <th></th>\n",
       "      <th>UF</th>\n",
       "      <th>Código</th>\n",
       "      <th>Gentílico</th>\n",
       "      <th>Governador_2023</th>\n",
       "      <th>Capital_2010</th>\n",
       "      <th>ÁreaTerritorial_2022</th>\n",
       "      <th>PopulaçãoEstimada_2021</th>\n",
       "      <th>DensidadeDemográfica_2010</th>\n",
       "      <th>Matrículas_EnsinoFundamental</th>\n",
       "      <th>IDH_2010</th>\n",
       "      <th>ReceitasRealizadas_2017</th>\n",
       "      <th>Despesas Empenhadas_2017</th>\n",
       "      <th>RendimentoMensalDomiciliar_PerCapita_2022</th>\n",
       "      <th>TotalVeículos_2022</th>\n",
       "    </tr>\n",
       "  </thead>\n",
       "  <tbody>\n",
       "    <tr>\n",
       "      <th>0</th>\n",
       "      <td>Acre</td>\n",
       "      <td>12</td>\n",
       "      <td>acriano</td>\n",
       "      <td>GLADSON DE LIMA CAMELI</td>\n",
       "      <td>Rio Branco</td>\n",
       "      <td>164173.429</td>\n",
       "      <td>906876</td>\n",
       "      <td>4.47</td>\n",
       "      <td>153015</td>\n",
       "      <td>0.663</td>\n",
       "      <td>6.632883e+06</td>\n",
       "      <td>6.084417e+06</td>\n",
       "      <td>1038</td>\n",
       "      <td>334377</td>\n",
       "    </tr>\n",
       "    <tr>\n",
       "      <th>1</th>\n",
       "      <td>Alagoas</td>\n",
       "      <td>27</td>\n",
       "      <td>alagoano</td>\n",
       "      <td>PAULO SURUAGY DO AMARAL DANTAS</td>\n",
       "      <td>Maceió</td>\n",
       "      <td>27830.661</td>\n",
       "      <td>3365351</td>\n",
       "      <td>112.33</td>\n",
       "      <td>458782</td>\n",
       "      <td>0.631</td>\n",
       "      <td>1.195044e+07</td>\n",
       "      <td>1.046063e+07</td>\n",
       "      <td>935</td>\n",
       "      <td>1034187</td>\n",
       "    </tr>\n",
       "    <tr>\n",
       "      <th>2</th>\n",
       "      <td>Amapá</td>\n",
       "      <td>16</td>\n",
       "      <td>amapaense</td>\n",
       "      <td>CLÉCIO LUÍS VILHENA VIEIRA</td>\n",
       "      <td>Macapá</td>\n",
       "      <td>142470.762</td>\n",
       "      <td>877613</td>\n",
       "      <td>4.69</td>\n",
       "      <td>133839</td>\n",
       "      <td>0.708</td>\n",
       "      <td>5.396417e+06</td>\n",
       "      <td>4.224464e+06</td>\n",
       "      <td>1177</td>\n",
       "      <td>232691</td>\n",
       "    </tr>\n",
       "    <tr>\n",
       "      <th>3</th>\n",
       "      <td>Amazonas</td>\n",
       "      <td>13</td>\n",
       "      <td>amazonense</td>\n",
       "      <td>WILSON MIRANDA LIMA</td>\n",
       "      <td>Manaus</td>\n",
       "      <td>1559255.881</td>\n",
       "      <td>4269995</td>\n",
       "      <td>2.23</td>\n",
       "      <td>702763</td>\n",
       "      <td>0.674</td>\n",
       "      <td>1.732846e+07</td>\n",
       "      <td>1.532490e+07</td>\n",
       "      <td>965</td>\n",
       "      <td>1069794</td>\n",
       "    </tr>\n",
       "    <tr>\n",
       "      <th>4</th>\n",
       "      <td>Bahia</td>\n",
       "      <td>29</td>\n",
       "      <td>baiano</td>\n",
       "      <td>JERÔNIMO RODRIGUES SOUZA</td>\n",
       "      <td>Salvador</td>\n",
       "      <td>564760.429</td>\n",
       "      <td>14985284</td>\n",
       "      <td>24.82</td>\n",
       "      <td>1946957</td>\n",
       "      <td>0.660</td>\n",
       "      <td>5.019100e+07</td>\n",
       "      <td>4.557016e+07</td>\n",
       "      <td>1010</td>\n",
       "      <td>4887673</td>\n",
       "    </tr>\n",
       "  </tbody>\n",
       "</table>\n",
       "</div>"
      ],
      "text/plain": [
       "         UF  Código   Gentílico                 Governador_2023 Capital_2010  \\\n",
       "0      Acre      12     acriano          GLADSON DE LIMA CAMELI   Rio Branco   \n",
       "1   Alagoas      27    alagoano  PAULO SURUAGY DO AMARAL DANTAS       Maceió   \n",
       "2     Amapá      16   amapaense      CLÉCIO LUÍS VILHENA VIEIRA       Macapá   \n",
       "3  Amazonas      13  amazonense             WILSON MIRANDA LIMA       Manaus   \n",
       "4     Bahia      29      baiano        JERÔNIMO RODRIGUES SOUZA     Salvador   \n",
       "\n",
       "   ÁreaTerritorial_2022  PopulaçãoEstimada_2021  DensidadeDemográfica_2010  \\\n",
       "0            164173.429                  906876                       4.47   \n",
       "1             27830.661                 3365351                     112.33   \n",
       "2            142470.762                  877613                       4.69   \n",
       "3           1559255.881                 4269995                       2.23   \n",
       "4            564760.429                14985284                      24.82   \n",
       "\n",
       "   Matrículas_EnsinoFundamental  IDH_2010  ReceitasRealizadas_2017  \\\n",
       "0                        153015     0.663             6.632883e+06   \n",
       "1                        458782     0.631             1.195044e+07   \n",
       "2                        133839     0.708             5.396417e+06   \n",
       "3                        702763     0.674             1.732846e+07   \n",
       "4                       1946957     0.660             5.019100e+07   \n",
       "\n",
       "   Despesas Empenhadas_2017  RendimentoMensalDomiciliar_PerCapita_2022  \\\n",
       "0              6.084417e+06                                       1038   \n",
       "1              1.046063e+07                                        935   \n",
       "2              4.224464e+06                                       1177   \n",
       "3              1.532490e+07                                        965   \n",
       "4              4.557016e+07                                       1010   \n",
       "\n",
       "   TotalVeículos_2022  \n",
       "0              334377  \n",
       "1             1034187  \n",
       "2              232691  \n",
       "3             1069794  \n",
       "4             4887673  "
      ]
     },
     "execution_count": 3,
     "metadata": {},
     "output_type": "execute_result"
    }
   ],
   "source": [
    "file.head()"
   ]
  },
  {
   "cell_type": "code",
   "execution_count": 5,
   "id": "b5fefc86",
   "metadata": {},
   "outputs": [
    {
     "name": "stderr",
     "output_type": "stream",
     "text": [
      "2023-03-30 14:25:08.626 \n",
      "  \u001b[33m\u001b[1mWarning:\u001b[0m to view this Streamlit app on a browser, run it with the following\n",
      "  command:\n",
      "\n",
      "    streamlit run C:\\ProgramData\\Anaconda3\\envs\\analisedados\\lib\\site-packages\\ipykernel_launcher.py [ARGUMENTS]\n"
     ]
    },
    {
     "data": {
      "text/plain": [
       "DeltaGenerator(_root_container=0, _provided_cursor=None, _parent=None, _block_type=None, _form_data=None)"
      ]
     },
     "execution_count": 5,
     "metadata": {},
     "output_type": "execute_result"
    }
   ],
   "source": [
    "st.title('Olá')"
   ]
  },
  {
   "cell_type": "code",
   "execution_count": null,
   "id": "c2af82a1",
   "metadata": {},
   "outputs": [],
   "source": []
  }
 ],
 "metadata": {
  "kernelspec": {
   "display_name": "Python 3 (ipykernel)",
   "language": "python",
   "name": "python3"
  },
  "language_info": {
   "codemirror_mode": {
    "name": "ipython",
    "version": 3
   },
   "file_extension": ".py",
   "mimetype": "text/x-python",
   "name": "python",
   "nbconvert_exporter": "python",
   "pygments_lexer": "ipython3",
   "version": "3.9.16"
  }
 },
 "nbformat": 4,
 "nbformat_minor": 5
}
